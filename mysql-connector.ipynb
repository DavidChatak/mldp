{
 "cells": [
  {
   "cell_type": "code",
   "execution_count": null,
   "metadata": {},
   "outputs": [],
   "source": [
    "import mysql.connector"
   ]
  },
  {
   "cell_type": "code",
   "execution_count": null,
   "metadata": {},
   "outputs": [],
   "source": [
    "with mysql.connector.connect(host=\"localhost\",  user=\"david\",  password=\"David1234\") as mydb:\n",
    "    print(mydb)\n",
    "    cursor=mydb.cursor()\n",
    "    cursor.execute(\"show databases\")\n",
    "    res = cursor.fetchall()\n",
    "    print(\"Databases:\",res)\n",
    "    cursor.execute(\"use testdb\")\n",
    "    cursor.execute(\"select * from test\")\n",
    "    print(cursor.fetchall())\n",
    "    cursor.execute(\"delete from test\")\n",
    "    cursor.execute(\"insert into test values ('Ayşe','Sacide') \")\n",
    "    mydb.commit()\n",
    "    cursor.execute(\"select * from test\")\n",
    "    print(cursor.fetchall())\n",
    "    cursor.close()\n",
    "    mydb.close()"
   ]
  },
  {
   "cell_type": "code",
   "execution_count": null,
   "metadata": {},
   "outputs": [],
   "source": []
  }
 ],
 "metadata": {
  "kernelspec": {
   "display_name": "Python 3",
   "language": "python",
   "name": "python3"
  },
  "language_info": {
   "codemirror_mode": {
    "name": "ipython",
    "version": 3
   },
   "file_extension": ".py",
   "mimetype": "text/x-python",
   "name": "python",
   "nbconvert_exporter": "python",
   "pygments_lexer": "ipython3",
   "version": "3.8.5"
  },
  "metadata": {
   "interpreter": {
    "hash": "89f176e6837753ece4738ac623e2a1bf4a5e6585e12e752f080d83d764f71ce3"
   }
  }
 },
 "nbformat": 4,
 "nbformat_minor": 2
}
